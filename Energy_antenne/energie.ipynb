{
 "cells": [
  {
   "cell_type": "code",
   "execution_count": 10,
   "id": "c25ba3bf-2de7-41fc-8702-ef2d3562c00c",
   "metadata": {},
   "outputs": [
    {
     "name": "stdout",
     "output_type": "stream",
     "text": [
      "            SITE_NAME       BEGIN         END KWH_PERIOD PERIOD_EUR    SITE\n",
      "0  12345_GEO (0001BB)  01/01/2018  31/01/2018      2 447     316,46  0001BB\n",
      "1  12345_GEO (0001BB)  01/02/2018  28/02/2018      2 211     286,82  0001BB\n",
      "2  12345_GEO (0001BB)  01/03/2018  31/03/2018      2 450     317,32  0001BB\n",
      "3  12345_GEO (0001BB)  01/04/2018  30/04/2018      2 431     315,00  0001BB\n",
      "4  12345_GEO (0001BB)  01/05/2018  31/05/2018      2 574     333,37  0001BB\n"
     ]
    }
   ],
   "source": [
    "# Importer les bibliothèques\n",
    "import pandas as pd\n",
    "import numpy as np\n",
    "\n",
    "# Lire le fichier csv dans un dataframe pandas\n",
    "df = pd.read_csv(\"/Users/ronanlamour/Desktop/THP_Ronan_Lamour/Semaine_5/Day_2/Invoice_20201220.csv\", encoding='utf-8', sep=\"|\")\n",
    "\n",
    "# Exclure la colomne Invoice qui ne sert pas\n",
    "df = df.drop(columns=\"INVOICE_NAME\")\n",
    "\n",
    "# Afficher les premières lignes\n",
    "print(df.head())"
   ]
  },
  {
   "cell_type": "code",
   "execution_count": 2,
   "id": "c588835b-0a2c-42fb-9c07-821c6af4b81c",
   "metadata": {},
   "outputs": [
    {
     "name": "stdout",
     "output_type": "stream",
     "text": [
      "0        12345_GEO (0001BB)\n",
      "1        12345_GEO (0001BB)\n",
      "2        12345_GEO (0001BB)\n",
      "3        12345_GEO (0001BB)\n",
      "4        12345_GEO (0001BB)\n",
      "                ...        \n",
      "51427    19767_GEO (0632KO)\n",
      "51428    19767_GEO (0632KO)\n",
      "51429    19767_GEO (0632KO)\n",
      "51430    19767_GEO (0632KO)\n",
      "51431    19883_GEO (1203KO)\n",
      "Name: SITE_NAME, Length: 51432, dtype: object\n"
     ]
    }
   ],
   "source": [
    "# Affichage SITE_NAME pour observer la composition de la colonne et le type de valeurs\n",
    "print(df['SITE_NAME'])"
   ]
  },
  {
   "cell_type": "code",
   "execution_count": 21,
   "id": "be5c16e3-b7fc-4190-bf56-15cd1ec308d3",
   "metadata": {},
   "outputs": [
    {
     "name": "stdout",
     "output_type": "stream",
     "text": [
      "0        0001BB\n",
      "1        0001BB\n",
      "2        0001BB\n",
      "3        0001BB\n",
      "4        0001BB\n",
      "          ...  \n",
      "51427    0632KO\n",
      "51428    0632KO\n",
      "51429    0632KO\n",
      "51430    0632KO\n",
      "51431    1203KO\n",
      "Name: SITE, Length: 51432, dtype: object\n"
     ]
    }
   ],
   "source": [
    "# Affichage de la colonne SITE en format chiffreLETTRE\n",
    "df['SITE'] = df['SITE_NAME'].str[11:17]\n",
    "print(df['SITE'])"
   ]
  },
  {
   "cell_type": "code",
   "execution_count": 23,
   "id": "090ad23d-1a6f-4edb-a118-cd7bd60822ab",
   "metadata": {},
   "outputs": [],
   "source": [
    "# Création d'une nouvelle colonne pour la période de facturation\n",
    "df[\"periode_facturation\"] = \"df['fact']\"\n",
    "df.to_csv(\"Invoice_20201220.csv\", index=False)"
   ]
  },
  {
   "cell_type": "code",
   "execution_count": 16,
   "id": "61c09bfd-8b5a-43a8-88e5-3f85d7dd7435",
   "metadata": {},
   "outputs": [
    {
     "name": "stdout",
     "output_type": "stream",
     "text": [
      "0         30\n",
      "1         57\n",
      "2         87\n",
      "3        116\n",
      "4        146\n",
      "        ... \n",
      "51427    123\n",
      "51428     90\n",
      "51429    178\n",
      "51430    267\n",
      "51431     95\n",
      "Name: fact, Length: 51432, dtype: int64\n"
     ]
    }
   ],
   "source": [
    "# Nombre de jours entre début et fin de la facturation\n",
    "df['BEGIN'] = pd.to_datetime(df['BEGIN'])\n",
    "df['END'] = pd.to_datetime(df['END'])\n",
    "\n",
    "df['fact'] = (df['END'] - df['BEGIN']).dt.days\n",
    "print(df['fact'])"
   ]
  },
  {
   "cell_type": "code",
   "execution_count": 17,
   "id": "88cd6c4f-39e0-4b5e-8979-695dac2c4435",
   "metadata": {},
   "outputs": [
    {
     "name": "stdout",
     "output_type": "stream",
     "text": [
      "            SITE_NAME      BEGIN        END KWH_PERIOD PERIOD_EUR    SITE  \\\n",
      "0  12345_GEO (0001BB) 2018-01-01 2018-01-31      2 447     316,46  0001BB   \n",
      "1  12345_GEO (0001BB) 2018-01-02 2018-02-28      2 211     286,82  0001BB   \n",
      "2  12345_GEO (0001BB) 2018-01-03 2018-03-31      2 450     317,32  0001BB   \n",
      "3  12345_GEO (0001BB) 2018-01-04 2018-04-30      2 431     315,00  0001BB   \n",
      "4  12345_GEO (0001BB) 2018-01-05 2018-05-31      2 574     333,37  0001BB   \n",
      "\n",
      "  periode_facturation  fact  \n",
      "0          df['fact']    30  \n",
      "1          df['fact']    57  \n",
      "2          df['fact']    87  \n",
      "3          df['fact']   116  \n",
      "4          df['fact']   146  \n"
     ]
    }
   ],
   "source": [
    "print(df.head())"
   ]
  },
  {
   "cell_type": "code",
   "execution_count": 18,
   "id": "b6519340-174a-416a-bf3f-7b953e36dc03",
   "metadata": {},
   "outputs": [],
   "source": [
    "# Enlever l'éspace de la valeur KWH_PERIOD\n",
    "df['KWH'] = df['KWH_PERIOD'].str[0:1] + df['KWH_PERIOD'].str[2:]\n",
    "df['KWH'] = pd.to_numeric(df['KWH'], errors='coerce').fillna(0).astype(np.int64)"
   ]
  },
  {
   "cell_type": "code",
   "execution_count": 19,
   "id": "6bd86d98-0efe-4eb7-9bbf-abafcae80f00",
   "metadata": {},
   "outputs": [
    {
     "data": {
      "text/plain": [
       "0        81.566667\n",
       "1        38.789474\n",
       "2        28.160920\n",
       "3        20.956897\n",
       "4        17.630137\n",
       "           ...    \n",
       "51427    24.617886\n",
       "51428    24.033333\n",
       "51429    12.134831\n",
       "51430     8.352060\n",
       "51431    49.947368\n",
       "Name: Consum_moy, Length: 51432, dtype: float64"
      ]
     },
     "execution_count": 19,
     "metadata": {},
     "output_type": "execute_result"
    }
   ],
   "source": [
    "# Opération KWH divisé par la période\n",
    "df['Consum_moy'] = df['KWH'] / df['fact']\n",
    "df['Consum_moy']"
   ]
  },
  {
   "cell_type": "code",
   "execution_count": 30,
   "id": "7f5068a0-189e-4752-8102-56f4404df413",
   "metadata": {},
   "outputs": [
    {
     "data": {
      "text/html": [
       "<div>\n",
       "<style scoped>\n",
       "    .dataframe tbody tr th:only-of-type {\n",
       "        vertical-align: middle;\n",
       "    }\n",
       "\n",
       "    .dataframe tbody tr th {\n",
       "        vertical-align: top;\n",
       "    }\n",
       "\n",
       "    .dataframe thead th {\n",
       "        text-align: right;\n",
       "    }\n",
       "</style>\n",
       "<table border=\"1\" class=\"dataframe\">\n",
       "  <thead>\n",
       "    <tr style=\"text-align: right;\">\n",
       "      <th></th>\n",
       "      <th>SITE</th>\n",
       "      <th>Factures</th>\n",
       "    </tr>\n",
       "  </thead>\n",
       "  <tbody>\n",
       "    <tr>\n",
       "      <th>0</th>\n",
       "      <td>)</td>\n",
       "      <td>11</td>\n",
       "    </tr>\n",
       "    <tr>\n",
       "      <th>1</th>\n",
       "      <td>0001BB</td>\n",
       "      <td>35</td>\n",
       "    </tr>\n",
       "    <tr>\n",
       "      <th>2</th>\n",
       "      <td>0001BR</td>\n",
       "      <td>35</td>\n",
       "    </tr>\n",
       "    <tr>\n",
       "      <th>3</th>\n",
       "      <td>0001KO</td>\n",
       "      <td>35</td>\n",
       "    </tr>\n",
       "    <tr>\n",
       "      <th>4</th>\n",
       "      <td>0002BB</td>\n",
       "      <td>35</td>\n",
       "    </tr>\n",
       "    <tr>\n",
       "      <th>...</th>\n",
       "      <td>...</td>\n",
       "      <td>...</td>\n",
       "    </tr>\n",
       "    <tr>\n",
       "      <th>2398</th>\n",
       "      <td>9513BB</td>\n",
       "      <td>2</td>\n",
       "    </tr>\n",
       "    <tr>\n",
       "      <th>2399</th>\n",
       "      <td>9515BB</td>\n",
       "      <td>2</td>\n",
       "    </tr>\n",
       "    <tr>\n",
       "      <th>2400</th>\n",
       "      <td>9516BB</td>\n",
       "      <td>2</td>\n",
       "    </tr>\n",
       "    <tr>\n",
       "      <th>2401</th>\n",
       "      <td>9517BB</td>\n",
       "      <td>2</td>\n",
       "    </tr>\n",
       "    <tr>\n",
       "      <th>2402</th>\n",
       "      <td>9518BB</td>\n",
       "      <td>2</td>\n",
       "    </tr>\n",
       "  </tbody>\n",
       "</table>\n",
       "<p>2403 rows × 2 columns</p>\n",
       "</div>"
      ],
      "text/plain": [
       "        SITE  Factures\n",
       "0          )        11\n",
       "1     0001BB        35\n",
       "2     0001BR        35\n",
       "3     0001KO        35\n",
       "4     0002BB        35\n",
       "...      ...       ...\n",
       "2398  9513BB         2\n",
       "2399  9515BB         2\n",
       "2400  9516BB         2\n",
       "2401  9517BB         2\n",
       "2402  9518BB         2\n",
       "\n",
       "[2403 rows x 2 columns]"
      ]
     },
     "execution_count": 30,
     "metadata": {},
     "output_type": "execute_result"
    }
   ],
   "source": [
    "# Colonne qui donne, pour chaque antenne, le nombre de factures dont on dispose au total\n",
    "df.groupby('SITE')['PERIOD_EUR'].count().reset_index(name='Factures')"
   ]
  },
  {
   "cell_type": "code",
   "execution_count": 31,
   "id": "8c841f55-6c4c-4be9-82ba-ec09b165a482",
   "metadata": {},
   "outputs": [],
   "source": [
    "# Question bonus TO DO"
   ]
  },
  {
   "cell_type": "code",
   "execution_count": null,
   "id": "e7024ca4-aa8c-4c8d-95f2-6a0ecefe5d98",
   "metadata": {},
   "outputs": [],
   "source": []
  }
 ],
 "metadata": {
  "kernelspec": {
   "display_name": "Python 3",
   "language": "python",
   "name": "python3"
  },
  "language_info": {
   "codemirror_mode": {
    "name": "ipython",
    "version": 3
   },
   "file_extension": ".py",
   "mimetype": "text/x-python",
   "name": "python",
   "nbconvert_exporter": "python",
   "pygments_lexer": "ipython3",
   "version": "3.8.8"
  }
 },
 "nbformat": 4,
 "nbformat_minor": 5
}
